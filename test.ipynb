{
 "cells": [
  {
   "cell_type": "code",
   "execution_count": 1,
   "id": "106d39c3",
   "metadata": {},
   "outputs": [],
   "source": [
    "import re\n",
    "from pathlib import Path\n",
    "from typing import Final"
   ]
  },
  {
   "cell_type": "code",
   "execution_count": null,
   "id": "4a47bd57",
   "metadata": {},
   "outputs": [],
   "source": [
    "EXCLUDE_INVERT_E: Final[set[str]] = {\n",
    "    '<meta content=\"MATHENAUTICA\" property=\"og:site_name\"/>',\n",
    "    r'(\\s+)<title>(.+) - MATHENAUTICA</title>'\n",
    "}"
   ]
  },
  {
   "cell_type": "code",
   "execution_count": 25,
   "id": "ee105a83",
   "metadata": {},
   "outputs": [],
   "source": [
    "def invert_e(html_text: str) -> str:\n",
    "    replaced = html_text\n",
    "    matched = re.finditer(r\"(.*)(MATHENAUTICA)(.*)\", replaced)\n",
    "    for match in list(matched)[::-1]:\n",
    "        for exclude in EXCLUDE_INVERT_E:\n",
    "            print(f'🍎{match.group(1)}🍎{match.group(2)}🍎{match.group(3)}🍎')\n",
    "            if re.match(exclude, match.group(0)):\n",
    "                break\n",
    "        else:\n",
    "            replaced = replaced[:match.start(2)] + \"MATH<div class='invert-e'>E</div>NAUTICA\" + replaced[match.end(2):]\n",
    "\n",
    "    return replaced"
   ]
  },
  {
   "cell_type": "code",
   "execution_count": 26,
   "id": "0784b00f",
   "metadata": {},
   "outputs": [
    {
     "name": "stdout",
     "output_type": "stream",
     "text": [
      "🍎    <title>Page not found - 🍎MATHENAUTICA🍎</title>🍎\n",
      "🍎    <title>Page not found - 🍎MATHENAUTICA🍎</title>🍎\n",
      "\n",
      "    <title>Page not found - MATH<div class='invert-e'>E</div>NAUTICA</title>\n",
      "\n"
     ]
    }
   ],
   "source": [
    "print(invert_e(\n",
    "'''\n",
    "    <title>Page not found - MATHENAUTICA</title>\n",
    "'''))"
   ]
  }
 ],
 "metadata": {
  "kernelspec": {
   "display_name": ".venv",
   "language": "python",
   "name": "python3"
  },
  "language_info": {
   "codemirror_mode": {
    "name": "ipython",
    "version": 3
   },
   "file_extension": ".py",
   "mimetype": "text/x-python",
   "name": "python",
   "nbconvert_exporter": "python",
   "pygments_lexer": "ipython3",
   "version": "3.12.3"
  }
 },
 "nbformat": 4,
 "nbformat_minor": 5
}
